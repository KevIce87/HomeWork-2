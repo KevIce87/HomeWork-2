{
 "cells": [
  {
   "cell_type": "code",
   "execution_count": 1,
   "id": "75131440-0a3d-40dc-831e-41af5dc6cffb",
   "metadata": {},
   "outputs": [],
   "source": [
    "# Dependencies \n",
    "import csv\n",
    "from pathlib import Path "
   ]
  },
  {
   "cell_type": "code",
   "execution_count": 10,
   "id": "b1b545fe-12b8-4c97-b819-900ecca958c3",
   "metadata": {},
   "outputs": [],
   "source": [
    "# Files to load and output (Remember to change these)\n",
    "file_to_load = Path(\"budget_data.csv\")\n",
    "file_to_output = Path(\"analysis/budget_analysis.txt\")"
   ]
  },
  {
   "cell_type": "code",
   "execution_count": 7,
   "id": "56ba9b11-3fe2-46f3-8a7c-29c875c9f016",
   "metadata": {},
   "outputs": [],
   "source": [
    "# Track various financial parameters \n",
    "total_months = 0\n",
    "month_of_change = []\n",
    "net_change_list =[]\n",
    "greatest_increase = [\"\", 0]\n",
    "greatest_decrease = [\"\", 9999999999999999999]\n",
    "total_net = 0\n"
   ]
  },
  {
   "cell_type": "code",
   "execution_count": 15,
   "id": "efd007b5-f931-4388-a5f5-e7cfc57aa207",
   "metadata": {},
   "outputs": [],
   "source": [
    "# Read the csv and convert it into a list of dictionaries \n",
    "with open(file_to_load) as financial_data:\n",
    "    reader = csv.reader(financial_data)\n",
    "    \n",
    "    # Read the header row\n",
    "    header = next(reader)\n",
    "    \n",
    "    # Extract first row to avoid appending to  net_change_list\n",
    "    first_row = next(reader)\n",
    "    total_months = total_months + 1\n",
    "    total_net = total_net + int(first_row[1])\n",
    "    prev_net = int(first_row[1])\n",
    "    \n",
    "    for row in reader:\n",
    "        \n",
    "        # Track the total \n",
    "        total_months = total_months + 1\n",
    "        total_net = total_net + int(row[1])\n",
    "        \n",
    "        # Track the total \n",
    "        net_change = int(row[1]) - prev_net\n",
    "        prev_net = int(row[1])\n",
    "        net_change_list = net_change_list + [net_change]\n",
    "        month_of_change = month_of_change + [row[0]]\n",
    "        \n",
    "        # Calculate the greatest increase\n",
    "        if net_change > greatest_increase[1]:\n",
    "            greatest_increase[0] = row[0]\n",
    "            greatest_increase[1] = net_change\n",
    "            \n",
    "        # Calculate the greatest decrease \n",
    "        if net_change < greatest_decrease[1]:\n",
    "            greatest_decrease[0] = row[0]\n",
    "            greatest_decrease[1] = net_change\n",
    "            \n",
    "        \n",
    "        \n",
    "        \n"
   ]
  },
  {
   "cell_type": "code",
   "execution_count": 16,
   "id": "8bafd814-b7d4-46c0-8ffb-5c63cb3b7507",
   "metadata": {},
   "outputs": [
    {
     "data": {
      "text/plain": [
       "-1618.71"
      ]
     },
     "execution_count": 16,
     "metadata": {},
     "output_type": "execute_result"
    }
   ],
   "source": [
    "# Calculate The Average Net Change \n",
    "net_monthly_avg = round(sum(net_change_list) / len(net_change_list),2)\n",
    "net_monthly_avg"
   ]
  },
  {
   "cell_type": "code",
   "execution_count": 19,
   "id": "eb510000-4984-4c93-a563-d71b0b7e4a4e",
   "metadata": {},
   "outputs": [
    {
     "name": "stdout",
     "output_type": "stream",
     "text": [
      "Finanical Analysis\n",
      "\n",
      "---------------------------\n",
      "\n",
      "Total Months: 174\n",
      "\n",
      "Total: $114756370\n",
      "\n",
      "Average Change $-1618.71\n",
      "\n",
      "Greatest Increase in Profits: Feb-2012 ($1926159)\n",
      "\n",
      "Greatest Decrease in Profits: Sep-2013 ($-2196167)\n",
      "\n"
     ]
    }
   ],
   "source": [
    "# Export the results into a text file \n",
    "print(f\"Finanical Analysis\\n\")\n",
    "print(f\"---------------------------\\n\")\n",
    "print(f\"Total Months: {total_months}\\n\")\n",
    "print(f\"Total: ${total_net}\\n\")\n",
    "print(f\"Average Change ${net_monthly_avg}\\n\")\n",
    "print(f\"Greatest Increase in Profits: {greatest_increase[0]} (${greatest_increase[1]})\\n\")\n",
    "print(f\"Greatest Decrease in Profits: {greatest_decrease[0]} (${greatest_decrease[1]})\\n\")"
   ]
  },
  {
   "cell_type": "code",
   "execution_count": null,
   "id": "20e46fb1-7026-431f-a558-6d95bc69d0eb",
   "metadata": {},
   "outputs": [],
   "source": []
  }
 ],
 "metadata": {
  "kernelspec": {
   "display_name": "Python 3 (ipykernel)",
   "language": "python",
   "name": "python3"
  },
  "language_info": {
   "codemirror_mode": {
    "name": "ipython",
    "version": 3
   },
   "file_extension": ".py",
   "mimetype": "text/x-python",
   "name": "python",
   "nbconvert_exporter": "python",
   "pygments_lexer": "ipython3",
   "version": "3.9.13"
  }
 },
 "nbformat": 4,
 "nbformat_minor": 5
}
